{
 "cells": [
  {
   "cell_type": "markdown",
   "id": "798f6cae-bfba-4359-a661-21da1adc4c9c",
   "metadata": {},
   "source": [
    "Bài tập  1 - Viết và thực thi code\n",
    "1. Trong notebook trống mới của bạn (từ Bài tập 1), hãy nhấp vào trong cell màu xám và viết một số code, như 1 + 1. \n",
    "2. Thực thi code bằng cách nhấp vào nút Play trong menu phía trên notebook hoặc bằng cách nhấn Shift+Enter trên notebook của bạn. \n",
    "3. Bạn sẽ thấy trong đầu ra, 2. \n",
    "4. Thử thực thi code khác (thử các phép toán đơn giản).\n",
    "Tuyệt vời! Bây giờ bạn đã biết cách viết và chạy code trong Jupyter Notebooks. \n"
   ]
  },
  {
   "cell_type": "code",
   "execution_count": 1,
   "id": "7e59bf19-7b69-4bbd-9a7e-043234249de3",
   "metadata": {},
   "outputs": [
    {
     "data": {
      "text/plain": [
       "2"
      ]
     },
     "execution_count": 1,
     "metadata": {},
     "output_type": "execute_result"
    }
   ],
   "source": [
    "1+1"
   ]
  },
  {
   "cell_type": "code",
   "execution_count": 2,
   "id": "cf2e373c-89aa-4553-8926-72354a4bbe60",
   "metadata": {},
   "outputs": [
    {
     "data": {
      "text/plain": [
       "6"
      ]
     },
     "execution_count": 2,
     "metadata": {},
     "output_type": "execute_result"
    }
   ],
   "source": [
    "2 + 2 * 2 "
   ]
  },
  {
   "cell_type": "markdown",
   "id": "233a91db-ec79-4842-a7d0-b99b4397f96f",
   "metadata": {},
   "source": [
    "Bài tập  2 - Tạo một cell mới\n",
    "1. Trong notebook Jupyter của bạn, trước tiên hãy nhấp vào bất kỳ cell nào hiện có để chọn cell.\n",
    "2. Từ menu, nhấp vào Insert, sau đó Insert Cell Above hoặc Insert Cell Below. \n",
    "3. Tuyệt vời! Bây giờ bạn đã biết cách chèn các cell mới trong Jupyter Notebook. Lưu ý rằng bạn có thể sử dụng các phím tắt: [a] - Chèn một cell phía trên; [b] - Chèn một cell bên dưới.\n"
   ]
  },
  {
   "cell_type": "markdown",
   "id": "2eb0910b-eb49-483f-a93f-3788f0bf6396",
   "metadata": {},
   "source": [
    "Cell mới được insert above Cell ban đầu "
   ]
  },
  {
   "cell_type": "markdown",
   "id": "83987c17-afbf-451b-bc6d-1981e47ae44d",
   "metadata": {},
   "source": [
    "Cell ban đầu"
   ]
  },
  {
   "cell_type": "markdown",
   "id": "346c23a8-0f98-4094-a827-76121f9730e3",
   "metadata": {},
   "source": [
    "Cell mới được insert below Cell ban đầu "
   ]
  },
  {
   "cell_type": "markdown",
   "id": "9e4a7952-e843-47fb-8ae0-3d01e6beb4da",
   "metadata": {},
   "source": [
    "Bài tập  3 - Tạo cell Markdown và thêm văn bản\n",
    "Trong notebook của bạn, hãy bấm vào bất kỳ cell code nào và trong menu thả xuống ở menu bên trên, hãy thay đổi loại cell từ Code thành Markdown. Như bạn nhận thấy, bạn không thể tạo cell Markdown mà không tạo cell Code trước và chuyển đổi chúng từ Code thành Markdown.\n",
    "Trong cell Markdown, hãy viết một số văn bản, ví dụ My Title.\n",
    "Để hiển thị văn bản Markdown, hãy đảm bảo rằng cell được chọn (bằng cách nhấp vào bên trong cell đó) và nhấn Play trong menu hoặc Shift + Enter. Cell Markdown của bạn bây giờ sẽ được hiển thị!\n",
    "Để chỉnh sửa ô Markdown của bạn, hãy bấm đúp vào bất kỳ đâu trong cell. Lưu ý rằng bạn có thể sử dụng phím tắt: [m] - Chuyển Cell thành Markdown \n"
   ]
  },
  {
   "cell_type": "markdown",
   "id": "59b18a92-8d4c-4370-9daf-be3637382a4a",
   "metadata": {},
   "source": [
    "My Title # Cell Markdown "
   ]
  }
 ],
 "metadata": {
  "kernelspec": {
   "display_name": "Python 3 (ipykernel)",
   "language": "python",
   "name": "python3"
  },
  "language_info": {
   "codemirror_mode": {
    "name": "ipython",
    "version": 3
   },
   "file_extension": ".py",
   "mimetype": "text/x-python",
   "name": "python",
   "nbconvert_exporter": "python",
   "pygments_lexer": "ipython3",
   "version": "3.10.5"
  }
 },
 "nbformat": 4,
 "nbformat_minor": 5
}
