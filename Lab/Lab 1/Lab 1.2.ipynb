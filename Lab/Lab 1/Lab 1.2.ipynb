{
 "cells": [
  {
   "cell_type": "markdown",
   "id": "3883554d-4bc4-4286-a58e-d1c5aeb2fc08",
   "metadata": {},
   "source": [
    "Bài tập  4 - Đổi tên Notebook \n",
    "1. Trong danh sách notebook ở bảng điều khiển bên trái, nhấp vào File ở trên cùng để mở rộng danh sách tùy chọn. \n",
    "2. Nhấp vào Rename Notebook... để đổi tên mới cho notebook ví dụ My_Notebook.ipynb. "
   ]
  },
  {
   "cell_type": "raw",
   "id": "52807c7e-0956-481b-86e6-989c488bd892",
   "metadata": {},
   "source": []
  },
  {
   "cell_type": "markdown",
   "id": "ceaa5820-ba53-44d6-b9dc-19439f2e4cef",
   "metadata": {},
   "source": [
    "Bài tập  5 - Lưu và tải xuống Jupyter Notebook vào máy tính của bạn \n",
    "Đôi khi bạn có thể muốn tải notebook về máy tính của mình.\n",
    "Để lưu, nhấp vào nút Save Notebook hoặc nút Save Notebook as trong menu File. \n",
    "Để tải xuống notebook, nhấp vào File và cuộn xuống Download để tải xuống notebook. Bạn cũng có thể nhấp chuột phải vào notebook trong file browser và nhấp vào Download \n"
   ]
  },
  {
   "cell_type": "code",
   "execution_count": null,
   "id": "5cb2f364-9ab5-49c3-902d-89fd4d0ee729",
   "metadata": {},
   "outputs": [],
   "source": []
  }
 ],
 "metadata": {
  "kernelspec": {
   "display_name": "Python 3 (ipykernel)",
   "language": "python",
   "name": "python3"
  },
  "language_info": {
   "codemirror_mode": {
    "name": "ipython",
    "version": 3
   },
   "file_extension": ".py",
   "mimetype": "text/x-python",
   "name": "python",
   "nbconvert_exporter": "python",
   "pygments_lexer": "ipython3",
   "version": "3.10.5"
  }
 },
 "nbformat": 4,
 "nbformat_minor": 5
}
