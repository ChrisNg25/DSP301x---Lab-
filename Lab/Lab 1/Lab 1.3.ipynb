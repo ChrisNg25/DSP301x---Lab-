{
 "cells": [
  {
   "cell_type": "markdown",
   "id": "3c508396-0600-48b6-b096-4dd25e4a3970",
   "metadata": {},
   "source": [
    "Bài tập 6 - Tạo kiểu Markdown nâng cao\n",
    "Để bắt đầu sử dụng tính năng Markdown, hãy nhấp vào menu thả xuống ở trên cùng và nhấp vào Markdown. \n",
    "Bạn có thể viết code HTML trong các cell Markdown của mình. Chúng ta có thể nhúng các liên kết, thử thực thi code HTML sau trong cell Markdown: Cognitive Class (Lớp nhận thức) bằng cách nhấp chuột phải và mở trong tab mới. Bây giờ bạn sẽ thấy một hyperlink đến https://www.cognitiveclass.ai xuất hiện dưới dạng Cognitive Class.\n",
    "Bạn cũng có thể sử dụng định dạng Markdown. Ví dụ: để sử dụng Tiêu đề H1 để viết tiêu đề, hãy thử chạy như sau trong cell Markdown: # Header 1. Bạn có thể tìm thêm các quy tắc cho định dạng Markdown  xuống trong Markdown Cheatsheet này: https://github.com/adam-p/markdown here/wiki/Markdown-Cheatsheet \n",
    "Bạn cũng có thể tạo bảng HTML. Để tạo một bảng như thế này,\n",
    "  header\n",
    "  header\n",
    "cell\n",
    "cell\n",
    "\n",
    "bạn có thể thực hiện như sau:\n"
   ]
  },
  {
   "cell_type": "markdown",
   "id": "0e233125-1bab-4c81-bab2-3d095061b6ac",
   "metadata": {},
   "source": [
    "| header | header | \n",
    "| ------ | ------ | \n",
    "| cell | cell | \n"
   ]
  },
  {
   "cell_type": "markdown",
   "id": "a456c442-86a5-4c6b-8038-6ce37aac65da",
   "metadata": {},
   "source": [
    "Bài tập 7 - Tạo kiểu Markdown nâng cao: Tạo bảng\n",
    "Chỉ sử dụng Markdown, hãy thử tạo một bảng có 3 cột và 4 hàng. \n",
    "Khóa học này sử dụng công cụ của bên thứ ba, Lab - Jupyter Notebook - Tính năng nâng cao, để nâng cao trải nghiệm học tập của bạn. Công cụ này sẽ tham chiếu thông tin cơ bản như tên, email và ID Coursera của bạn.\n"
   ]
  },
  {
   "cell_type": "markdown",
   "id": "5a2c06d6-7213-4a5b-9b64-91ceb067ebc7",
   "metadata": {},
   "source": [
    "| Name           | Are           | Money |\n",
    "| -------------  |:-------------:| -----:|\n",
    "| Nguyen Van A   | 20            | $1600 |\n",
    "| Tran Van B     | 16            |   $12 |\n",
    "| Nguyen Van C   | 15            |    $1 |"
   ]
  },
  {
   "cell_type": "code",
   "execution_count": null,
   "id": "d0376594-ba6c-416f-92dc-de3d6da3ca8a",
   "metadata": {},
   "outputs": [],
   "source": []
  }
 ],
 "metadata": {
  "kernelspec": {
   "display_name": "Python 3 (ipykernel)",
   "language": "python",
   "name": "python3"
  },
  "language_info": {
   "codemirror_mode": {
    "name": "ipython",
    "version": 3
   },
   "file_extension": ".py",
   "mimetype": "text/x-python",
   "name": "python",
   "nbconvert_exporter": "python",
   "pygments_lexer": "ipython3",
   "version": "3.10.5"
  }
 },
 "nbformat": 4,
 "nbformat_minor": 5
}
